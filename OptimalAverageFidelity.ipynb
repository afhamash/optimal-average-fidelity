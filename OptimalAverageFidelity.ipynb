{
  "nbformat": 4,
  "nbformat_minor": 0,
  "metadata": {
    "colab": {
      "name": "OptimalAverageFidelity.ipynb",
      "provenance": [],
      "collapsed_sections": [],
      "toc_visible": true,
      "authorship_tag": "ABX9TyMLkg0xeF9jYOfUt6vkMIH+"
    },
    "kernelspec": {
      "name": "python3",
      "display_name": "Python 3"
    },
    "language_info": {
      "name": "python"
    }
  },
  "cells": [
    {
      "cell_type": "code",
      "execution_count": null,
      "metadata": {
        "id": "vUFtMMhRXcJS"
      },
      "outputs": [],
      "source": [
        ""
      ]
    },
    {
      "cell_type": "markdown",
      "metadata": {
        "id": "teqY4hkcMBgq"
      },
      "source": [
        "# Installations and Definitions"
      ]
    },
    {
      "cell_type": "markdown",
      "source": [
        "Run the below cells for installations and imports."
      ],
      "metadata": {
        "id": "rK0EBbcsZiW0"
      }
    },
    {
      "cell_type": "code",
      "execution_count": null,
      "metadata": {
        "colab": {
          "base_uri": "https://localhost:8080/"
        },
        "id": "3fJmx8qqMGLP",
        "outputId": "47ccb964-5a2d-406b-9c73-4d92b604f8bf"
      },
      "outputs": [
        {
          "output_type": "stream",
          "name": "stdout",
          "text": [
            "Looking in indexes: https://pypi.org/simple, https://us-python.pkg.dev/colab-wheels/public/simple/\n",
            "Requirement already satisfied: cvxpy in /usr/local/lib/python3.7/dist-packages (1.0.31)\n",
            "Collecting cvxpy\n",
            "  Downloading cvxpy-1.2.1-cp37-cp37m-manylinux_2_24_x86_64.whl (2.8 MB)\n",
            "\u001b[K     |████████████████████████████████| 2.8 MB 9.1 MB/s \n",
            "\u001b[?25hRequirement already satisfied: scipy>=1.1.0 in /usr/local/lib/python3.7/dist-packages (from cvxpy) (1.4.1)\n",
            "Requirement already satisfied: numpy>=1.15 in /usr/local/lib/python3.7/dist-packages (from cvxpy) (1.21.6)\n",
            "Requirement already satisfied: ecos>=2 in /usr/local/lib/python3.7/dist-packages (from cvxpy) (2.0.10)\n",
            "Requirement already satisfied: scs>=1.1.6 in /usr/local/lib/python3.7/dist-packages (from cvxpy) (3.2.0)\n",
            "Requirement already satisfied: osqp>=0.4.1 in /usr/local/lib/python3.7/dist-packages (from cvxpy) (0.6.2.post0)\n",
            "Requirement already satisfied: qdldl in /usr/local/lib/python3.7/dist-packages (from osqp>=0.4.1->cvxpy) (0.1.5.post2)\n",
            "Installing collected packages: cvxpy\n",
            "  Attempting uninstall: cvxpy\n",
            "    Found existing installation: cvxpy 1.0.31\n",
            "    Uninstalling cvxpy-1.0.31:\n",
            "      Successfully uninstalled cvxpy-1.0.31\n",
            "Successfully installed cvxpy-1.2.1\n"
          ]
        }
      ],
      "source": [
        "pip install cvxpy --upgrade\n"
      ]
    },
    {
      "cell_type": "code",
      "execution_count": null,
      "metadata": {
        "id": "73Fqt51zMI7p"
      },
      "outputs": [],
      "source": [
        "# Run this cell for all the imports\n",
        "\n",
        "import numpy as np\n",
        "import cvxpy as cp\n",
        "\n",
        "\n",
        "import scipy as sp\n",
        "import random\n",
        "import time\n",
        "from matplotlib import pyplot as plt\n",
        "\n",
        "np.set_printoptions(precision=4) # Comment this line to see more than 4 digits after decimal point\n",
        "\n",
        "from numpy import linalg as la\n",
        "from scipy import linalg as sla\n",
        "from scipy.linalg import sqrtm as sqm\n",
        "from numpy import trace as tr\n",
        "from numpy import allclose as ac\n",
        "from numpy.linalg import eigh as eigh\n",
        "from numpy.linalg import norm as norm\n",
        "\n",
        "\n",
        "plt.style.use('ggplot')"
      ]
    },
    {
      "cell_type": "markdown",
      "source": [
        "Run the following cells to define the required functions."
      ],
      "metadata": {
        "id": "rd2-9QLGYT-R"
      }
    },
    {
      "cell_type": "code",
      "execution_count": null,
      "metadata": {
        "id": "8TgtX2nL6gpe"
      },
      "outputs": [],
      "source": [
        "# # Returns a complex Positive semidefinite matrix.\n",
        "# def PSDMatrix(Dim, IsDensity = 1, Rank = 1):\n",
        "\n",
        "#   #Define a random square matrix of size Dim\n",
        "#   X = 2*np.matrix(np.random.randn(Dim, Rank)) - 1 + 1j*(2*np.matrix(np.random.randn(Dim, Rank)) - 1)\n",
        "#   #X = 2*np.matrix(np.random.rand(Dim, DimCol)) - 1\n",
        "  \n",
        "#   #Multiply by its transpose to obtain a postive semidefinite matrix\n",
        "#   P = X@(X.conj().T)\n",
        "  \n",
        "#   return P "
      ]
    },
    {
      "cell_type": "code",
      "execution_count": null,
      "metadata": {
        "id": "TqS9q7yY7B-4"
      },
      "outputs": [],
      "source": [
        "# Dim: dimension\n",
        "# Rank: Rank. For full rank matrix, set Rank = Dim\n",
        "# IsReal: Set IsReal = 0 for complex valued matrices and 1 for real-valued matrices\n",
        "\n",
        "def DensityMatrix(Dim, Rank, IsReal = 0):\n",
        "\n",
        "  #Define a random square matrix of size Dim\n",
        "  if IsReal == 1:\n",
        "    X = np.matrix(np.random.randn(Dim, Rank)) + 1.5 #1.5 is a bias added to ensure the mean of the distribution is not the maximally mixed state\n",
        "  else:\n",
        "    X = np.matrix(np.random.randn(Dim, Rank)) + 1j*(np.matrix(np.random.randn(Dim, Rank))) + 1.5\n",
        "  \n",
        "  \n",
        "  #Multiply by its transpose to obtain a postive semidefinite matrix\n",
        "  P = X@(X.conj().T)\n",
        "\n",
        "  #Normalise to obtain density matrix\n",
        "  P = P/np.trace(P)\n",
        "\n",
        "  return P "
      ]
    },
    {
      "cell_type": "code",
      "execution_count": null,
      "metadata": {
        "id": "p5qkc6GK7Srs"
      },
      "outputs": [],
      "source": [
        "# Return an random n dimensional probability vector\n",
        "def ProbVec(n):\n",
        "\n",
        "  p = np.random.rand(n)\n",
        "  return p/np.sum(p)"
      ]
    },
    {
      "cell_type": "code",
      "execution_count": null,
      "metadata": {
        "id": "-8WZwZvU7XxL"
      },
      "outputs": [],
      "source": [
        "# Generates n d-dimensional r-rank states\n",
        "# Choose IsReal = 1 for Real valued matrices\n",
        "def GenStates(n, d, r, IsReal = 0):\n",
        "\n",
        "  Rhos = np.empty((n,d,d)) + 1j*np.empty((n,d,d)) \n",
        "  for i in range(n):\n",
        "    Rhos[i,:,:] = DensityMatrix(d,r, IsReal)\n",
        "\n",
        "  return Rhos"
      ]
    },
    {
      "cell_type": "code",
      "execution_count": null,
      "metadata": {
        "id": "ib49HZD47dsE"
      },
      "outputs": [],
      "source": [
        "# Given a collection of states and a probability vector, the function returns\n",
        "# RhoAv: Average state\n",
        "\n",
        "def AverageState(Rhos, p):\n",
        "  \n",
        "  (n,d) = np.shape(Rhos)[0:2]\n",
        "\n",
        "  RhoAv = np.zeros((d,d)) + 1j*np.zeros((d,d)) \n",
        "  \n",
        "  for i in range(n):\n",
        "    RhoAv += p[i]*Rhos[i,:,:]\n",
        "\n",
        "\n",
        "\n",
        "  return (RhoAv)"
      ]
    },
    {
      "cell_type": "code",
      "execution_count": null,
      "metadata": {
        "id": "-wgf9b4MTIAU"
      },
      "outputs": [],
      "source": [
        "# Returns the square root Fidelity between two PSD operators P and Q\n",
        "def Fidelity(P, Q):\n",
        "  \n",
        "  sqP = sqm(P)\n",
        "\n",
        "  return(tr(sqm(sqP@Q@sqP)))"
      ]
    },
    {
      "cell_type": "code",
      "execution_count": null,
      "metadata": {
        "id": "cWM0Dqyk9PXC"
      },
      "outputs": [],
      "source": [
        "# # Returns the truth value of a matrix A being Hermitian\n",
        "# def IsHerm(A):\n",
        "#   return(ac(A, A.conj().T))"
      ]
    },
    {
      "cell_type": "code",
      "execution_count": null,
      "metadata": {
        "id": "7u740waO9Xir"
      },
      "outputs": [],
      "source": [
        "# # Returns the truth value of a matrix U being Unitary\n",
        "# def IsUnitary(U):\n",
        "\n",
        "#   d = np.shape(U)[0]\n",
        "\n",
        "#   return(ac(U@U.conj().T, np.eye(d)) and ac(U.conj().T@U, np.eye(d)))"
      ]
    },
    {
      "cell_type": "code",
      "execution_count": null,
      "metadata": {
        "id": "a6NHfUYm9vJs"
      },
      "outputs": [],
      "source": [
        "# Given an ensemble of states Rhos and a probability vector p over it, returns\n",
        "# the average fidelity \\Sum_i p(i)F(Rhos(i), Sigma) of Sigma\n",
        "\n",
        "def AverageFidelity(Sigma, Rhos, p):\n",
        "\n",
        "  (n,d) = np.shape(Rhos)[0:2]\n",
        "\n",
        "  Fid = 0\n",
        "  for i in range(n):\n",
        "    Fid = Fid + p[i]*Fidelity(Rhos[i], Sigma)\n",
        "\n",
        "  return (Fid)"
      ]
    },
    {
      "cell_type": "code",
      "execution_count": null,
      "metadata": {
        "id": "CMVGkg92-RFi"
      },
      "outputs": [],
      "source": [
        "# Returns the commuting estimator of the ensemble (Rhos, p) \n",
        "def CommEstimator(Rhos, p):\n",
        "\n",
        "  (n,d) = np.shape(Rhos)[0:2]\n",
        "  Sigma = 0*Rhos[0]\n",
        "\n",
        "  for i in range(n):\n",
        "    Sigma += p[i]*sqm(Rhos[i])\n",
        "  \n",
        "  Sigma = Sigma@Sigma\n",
        "  Sigma = Sigma/tr(Sigma)\n",
        "\n",
        "  return(Sigma)"
      ]
    },
    {
      "cell_type": "code",
      "execution_count": null,
      "metadata": {
        "id": "xyDvlV24XniZ"
      },
      "outputs": [],
      "source": [
        "# Returns the product bound of the ensemble (Rhos, p)\n",
        "def ProductBound(Rhos, p):\n",
        "\n",
        "  n = np.shape(Rhos)[0]\n",
        "\n",
        "\n",
        "  ProdBound = 0\n",
        "  for i in range(n):\n",
        "    ProdBound += p[i]**2\n",
        "    for j in range(n):\n",
        "      if i < j:\n",
        "        ProdBound += 2*p[i]*p[j]*Fidelity(Rhos[i], Rhos[j])\n",
        " \n",
        "  ProdBound = np.sqrt(ProdBound)\n",
        "\n",
        "  return(ProdBound)"
      ]
    },
    {
      "cell_type": "code",
      "execution_count": null,
      "metadata": {
        "id": "Q8edghx822hQ"
      },
      "outputs": [],
      "source": [
        "def OmegaIteration(Rhos, p, SigmaIn, n, d, SigmaZero):\n",
        "\n",
        "  SqrtSigma = sqm(SigmaIn)\n",
        "  SigmaOut = SigmaZero\n",
        "  for i in range(n):\n",
        "    SigmaOut = SigmaOut + p[i]*sqm(SqrtSigma@Rhos[i]@SqrtSigma)\n",
        "\n",
        "  SigmaInvHalf = la.inv(SqrtSigma) \n",
        "  SigmaOut = SigmaInvHalf@SigmaOut@SigmaOut@SigmaInvHalf  \n",
        "  SigmaOut = SigmaOut/tr(SigmaOut)\n",
        "  return(SigmaOut)"
      ]
    },
    {
      "cell_type": "code",
      "execution_count": null,
      "metadata": {
        "id": "hmtH1yCL22hR"
      },
      "outputs": [],
      "source": [
        "# Fixed point algorithm for optimal fidelity estimator\n",
        "\n",
        "# Returns\n",
        "# Fid: Optimal average fidelity\n",
        "# SigmaOut: Optimal estimator\n",
        "# count: Number of steps for convergence\n",
        "# Sigmas: States at each step of the iteration process\n",
        "\n",
        "def OmegaEstimator(Rhos, p, eps = 1e-6):\n",
        "\n",
        "\n",
        "  Sigmas = []\n",
        "  (n,d) = np.shape(Rhos)[0:2]\n",
        "  SigmaOut = np.zeros([d,d]) + 1j*np.zeros([d,d])\n",
        "  \n",
        "\n",
        "  SigmaIn = CommEstimator(Rhos, p)\n",
        " \n",
        "    \n",
        "  Sigmas.append(SigmaIn)\n",
        "  SigmaZero = np.zeros([d,d]) + 1j*np.zeros([d,d])\n",
        "\n",
        "  count = 0\n",
        "  delta = 1\n",
        "  while delta > eps:\n",
        "    count += 1\n",
        "    SigmaOut = OmegaIteration(Rhos,p, SigmaIn, n, d, SigmaZero)\n",
        "    # Fidelities.append(Fid2)\n",
        "    delta = la.norm(SigmaIn - SigmaOut, np.inf)\n",
        "    # delta = 1 - Fidelity(SigmaIn, SigmaOut)\n",
        "    Sigmas.append(SigmaOut)\n",
        "    SigmaIn = SigmaOut\n",
        "\n",
        "\n",
        "  Fid = AverageFidelity(SigmaOut, Rhos, p)\n",
        "  return(Fid, SigmaOut, count, Sigmas)\n"
      ]
    },
    {
      "cell_type": "code",
      "source": [
        "# Carries our a single iteration of Lambda Fixed point algorithm\n",
        "def LambdaIteration(Rhos, p, SigmaIn, n, d, SigmaZero):\n",
        "\n",
        "  SqrtSigma = sqm(SigmaIn)\n",
        "  SigmaOut = SigmaZero\n",
        "  for i in range(n):\n",
        "    SigmaOut = SigmaOut + p[i]*sqm(SqrtSigma@Rhos[i]@SqrtSigma)\n",
        "    \n",
        "  SigmaOut = SigmaOut/tr(SigmaOut)\n",
        "  return(SigmaOut)"
      ],
      "metadata": {
        "id": "ii2HsTuxmB46"
      },
      "execution_count": null,
      "outputs": []
    },
    {
      "cell_type": "code",
      "source": [
        "# Fixed point algorithm for optimal fidelity estimator\n",
        "def LambdaEstimator(Rhos, p, eps = 1e-6):\n",
        "\n",
        "  (n,d) = np.shape(Rhos)[0:2]\n",
        "  SigmaIn = np.zeros([d,d]) + 1j*np.zeros([d,d])\n",
        "  SigmaOut = np.zeros([d,d]) + 1j*np.zeros([d,d])\n",
        "  Fidelities = []\n",
        "\n",
        "  SigmaIn = CommEstimator(Rhos, p)\n",
        "      \n",
        "\n",
        "  SigmaZero = np.zeros([d,d]) + 1j*np.zeros([d,d])\n",
        "   \n",
        "  count = 0\n",
        "  delta = 1\n",
        "  while delta > eps:\n",
        "    count += 1\n",
        "    (SigmaOut) = LambdaIteration(Rhos,p, SigmaIn, n, d, SigmaZero)\n",
        "    delta = la.norm(SigmaIn - SigmaOut, np.inf)\n",
        "    # delta = 1 - Fidelity(SigmaIn, SigmaOut)\n",
        "    SigmaIn = SigmaOut\n",
        "\n",
        "\n",
        "  Fid = AverageFidelity(SigmaOut, Rhos, p)\n",
        "  return(Fid, SigmaOut, count, Fidelities)\n"
      ],
      "metadata": {
        "id": "0LQtIz3VmJQW"
      },
      "execution_count": null,
      "outputs": []
    },
    {
      "cell_type": "code",
      "execution_count": null,
      "metadata": {
        "id": "BTZg4AEx9igG"
      },
      "outputs": [],
      "source": [
        "# Original SDP for optimal average fidelity\n",
        "\n",
        "# Uses cvxpy to solve the optimal estimator SDP problem.\n",
        "# Rhos is an (n,d,d) tensor containing the n d-dimensional states.\n",
        "# p is an n dimensional probability vector.\n",
        "\n",
        "# Outputs\n",
        "# Fid: The primal (and dual) optimum of the problem. This is expected to be the optimal fidelity.\n",
        "# Sigma: The optimal estimator that produces Fid\n",
        "# XList: The collection of X operators that constitute the primal optimal operator.\n",
        "# YList: The collection of Y operators that constitute the dual optimal operator.\n",
        "# z: The value z which is a part of the dual problem. \n",
        "\n",
        "def BayesSDPFidOri(Rhos, p, epsi = 1e-10):\n",
        "  \n",
        "  (n,d) = np.shape(Rhos)[0:2]\n",
        "  Id = np.eye(d)\n",
        "  Zeros = np.zeros([d,d])\n",
        "\n",
        "  # A is the primal constraint operator as defined in Watrous\n",
        "  A = 0.5*np.block([[np.zeros([n*d, n*d]), np.kron(p,Id).T],[np.kron(p.T,Id), Zeros]])\n",
        "\n",
        "  # Primal feasible\n",
        "  X = cp.Variable(((n+1)*d, (n+1)*d), complex = True)\n",
        "\n",
        "  # Constraints\n",
        "  constraints = [X >> 0]  #PSD\n",
        "  constraints += [X.H == X] # Hermitian\n",
        "  for i in range(n):\n",
        "    constraints += [X[i*d:(i+1)*d,i*d:(i+1)*d] == Rhos[i,:,:]]\n",
        "  constraints += [cp.trace(X[n*d:n*d+d, n*d:n*d+d]) == 1]\n",
        "\n",
        "  # Solve problem\n",
        "  prob = cp.Problem(cp.Maximize(cp.real(cp.trace(A@X))), constraints)\n",
        "  prob.solve(eps = epsi)\n",
        "  \n",
        "  # Extract quantities of interest from primal and dual variables\n",
        "  Fid = prob.value\n",
        "  Sigma = X.value[n*d:n*d + d, n*d:n*d + d]\n",
        "  XList = X.value[0:n*d, n*d: n*d + d]\n",
        "  XList = XList.reshape(n,d,d)\n",
        "  YList = np.zeros((n,d,d)) + 1j*np.zeros((n,d,d)) \n",
        "  z = constraints[-1].dual_value\n",
        "  KList = np.zeros((n,d,d)) + 1j*np.zeros((n,d,d))\n",
        "\n",
        "  for j in range(2, n+2):\n",
        "    YList[j-2,:,:] = constraints[j].dual_value\n",
        "  \n",
        "  for i in range(n):\n",
        "    if np.linalg.det(Rhos[i]) == 0:\n",
        "      KList[i] = sp.linalg.sqrtm(np.linalg.pinv(Rhos[i]))@XList[i]@sp.linalg.sqrtm(np.linalg.pinv(Sigma))\n",
        "    else:   \n",
        "      KList[i] = sp.linalg.sqrtm(np.linalg.inv(Rhos[i]))@XList[i]@sp.linalg.sqrtm(np.linalg.inv(Sigma))\n",
        "\n",
        "  XX = X.value\n",
        "\n",
        "  return (Fid, Sigma, XList, YList, z, KList, XX)"
      ]
    },
    {
      "cell_type": "code",
      "execution_count": null,
      "metadata": {
        "id": "pcd7q-s3NFIH"
      },
      "outputs": [],
      "source": [
        "# Alternate SDP for optimal average fidelity\n",
        "# Faster than BayesSDPFidOri \n",
        "# Outputs:\n",
        "# Fid: Optmal fidelity\n",
        "# Sigma: Optimal state\n",
        "# XList: List of X_i such that Tr(X_i) = F(\\Rhos[i], \\Sigma)\n",
        "# UList: List of Unitaries U_i\n",
        "# z: Dual variable such that Fid = 2z\n",
        "\n",
        "\n",
        "def BayesSDPFid(Rhos, p, epsi = 1e-6):\n",
        "\n",
        "  (n,d) = np.shape(Rhos)[0:2]\n",
        "  Id = np.eye(d)\n",
        "  Zeros = np.zeros([d,d])\n",
        "\n",
        "  A = np.zeros([2*d,2*d])\n",
        "  A[0:d,d:2*d] = 0.5*np.eye(d)\n",
        "  A[d:2*d, 0:d] = 0.5*np.eye(d)\n",
        "  \n",
        "  As = []\n",
        "  for i in range(n):  \n",
        "    As.append((p[i])*A)\n",
        "  \n",
        "  XXs = []\n",
        "  for i in range(n):\n",
        "    XXs.append(cp.Variable((2*d, 2*d), complex = True))\n",
        "  \n",
        "  Sig = cp.Variable((d, d), complex = True)\n",
        "  \n",
        "  constraints = [cp.trace(Sig) == 1]\n",
        "\n",
        "  for i in range(n):\n",
        "    constraints += [XXs[i].H == XXs[i]] # Hermitian\n",
        "    constraints += [XXs[i] >> 0]  #PSD\n",
        "    constraints += [XXs[i][0:d, 0:d] == Rhos[i]]\n",
        "    constraints += [XXs[i][d:2*d, d:2*d] == Sig]\n",
        "    \n",
        "  Arg = sum([As[i] @ XXs[i] for i in range(n)])\n",
        "\n",
        "  prob = cp.Problem(cp.Maximize(cp.real(cp.trace(Arg))), constraints)\n",
        "  prob.solve(eps = epsi)\n",
        "\n",
        "  Fid = prob.value\n",
        "  Sigma = Sig.value\n",
        "  \n",
        "  XList = []\n",
        "  UList = []\n",
        "  for i in range(n):\n",
        "    Xi = XXs[i].value[0:d, d: 2*d]\n",
        "    XList.append(Xi)\n",
        "    Ui = la.pinv(sqm(Rhos[i]))@Xi@la.inv(sqm(Sigma))\n",
        "    UList.append(Ui)\n",
        "\n",
        "  z = constraints[0].dual_value\n",
        "\n",
        "  return(Fid, Sigma, XList, UList, z)"
      ]
    },
    {
      "cell_type": "code",
      "execution_count": null,
      "metadata": {
        "id": "n9N5sW7XkbE7"
      },
      "outputs": [],
      "source": [
        "# Function to plot Scatter or line plots\n",
        "# Ease of life function\n",
        "\n",
        "def PlotScatters(X, Ys, XLabel, YLabel, Title, Colors, Markers, Labels, FigSize, FigName, LineOrScatter, Loc, SaveFig = 0, IsLogScale = 1, IsXTicks = 0, XTicks = []):\n",
        "\n",
        "  fig, ax = plt.subplots(nrows=1, ncols=1, figsize = FigSize)\n",
        "\n",
        "  plt.ylabel(YLabel, fontsize = 15)\n",
        "  plt.xlabel(XLabel, fontsize = 15)\n",
        "  fig.suptitle(Title, fontsize = 18)\n",
        "\n",
        "  Iters = len(Ys[0])\n",
        "\n",
        "  SortedYs = []\n",
        "  UpYs = []\n",
        "  DownYs = []\n",
        "\n",
        "  if LineOrScatter == 'Scatter':\n",
        "\n",
        "    for i in range(len(Ys)):\n",
        "\n",
        "      SortedY = np.sort(Ys[i],0)\n",
        "      UpY = SortedY[75*Iters//100,:]\n",
        "      DownY = SortedY[25*Iters//100,:]\n",
        "\n",
        "      ax.scatter(X, np.median(SortedY, 0), label = Labels[i], color = Colors[i], s = 50, marker = Markers[i])\n",
        "      ax.scatter(X, UpY, color = Colors[i], marker = '_', s = 150)\n",
        "      ax.scatter(X, DownY, color = Colors[i], marker = '_', s = 150)\n",
        "\n",
        "      for j in range(len(X)):\n",
        "\n",
        "          x = [X[j], X[j]]\n",
        "          y = [UpY[j], DownY[j]]\n",
        "          ax.plot(x, y, color = Colors[i], zorder = 1)\n",
        "\n",
        "  elif LineOrScatter == 'Line':\n",
        "\n",
        "    for i in range(len(Ys)):\n",
        "\n",
        "      SortedY = np.sort(Ys[i],0)\n",
        "      UpY = SortedY[75*Iters//100,:]\n",
        "      DownY = SortedY[25*Iters//100,:]\n",
        "\n",
        "      ax.plot(X, np.median(SortedY, 0), label = Labels[i], color = Colors[i], marker = Markers[i])\n",
        "      ax.fill_between(X, UpY, DownY, color = Colors[i], alpha = 0.25)\n",
        "\n",
        "  if IsXTicks == 1:\n",
        "    ax.set_xticks(XTicks)\n",
        "\n",
        "  fig.legend(loc=Loc, fontsize = 14)\n",
        "\n",
        "  if IsLogScale == 1:\n",
        "    ax.set_yscale('log')\n",
        "    # ax.set_xscale('log')\n",
        "    # k = 1\n",
        "\n",
        "  if SaveFig == 1:\n",
        "    plt.savefig('Tightness 1Q.pdf')\n",
        "\n",
        "  fig.show()"
      ]
    },
    {
      "cell_type": "markdown",
      "source": [
        "# Numerics"
      ],
      "metadata": {
        "id": "XjDOHc6kirra"
      }
    },
    {
      "cell_type": "markdown",
      "source": [
        "### Notation\n",
        "We use the following notation \\\\\n",
        "`Rhos` : the collection of states in the ensemble \\\\\n",
        "`p`: The probability vector over the ensemble \\\\\n",
        "`Sigma` (and other variants of `Sigma`) : The optimal state. \\\\\n",
        "`Fid` (and other variants of `Fid`) : Optimal average fidelity. \\\\\n",
        "`n`: Number of states in the ensemble $n$. \\\\\n",
        "`d`: Dimension of the states $d$. \\\\\n",
        "`r`: Rank of the states $r$. For fixed point algorithms to work, $r = d$ must hold. \n",
        "\n"
      ],
      "metadata": {
        "id": "92vRih5wnkBv"
      }
    },
    {
      "cell_type": "markdown",
      "source": [
        "## Minimal working examples for Optimal average fidelity"
      ],
      "metadata": {
        "id": "B11So1_Vjr12"
      }
    },
    {
      "cell_type": "code",
      "source": [
        "# Using Original SDP\n",
        "n = 5\n",
        "d = 2\n",
        "r = 2\n",
        "\n",
        "Rhos = GenStates(n, d, d)\n",
        "p = ProbVec(n)\n",
        "\n",
        "FidOriSDP, SigmaOriSDP = BayesSDPFidOri(Rhos, p, epsi = 1e-6)[0:2] # Using Original SDP\n",
        "\n",
        "FidOriSDP"
      ],
      "metadata": {
        "colab": {
          "base_uri": "https://localhost:8080/"
        },
        "id": "GlNlu3YQllVR",
        "outputId": "b019d385-13dc-48f0-e586-af7146c0420f"
      },
      "execution_count": null,
      "outputs": [
        {
          "output_type": "execute_result",
          "data": {
            "text/plain": [
              "0.9661729538797927"
            ]
          },
          "metadata": {},
          "execution_count": 30
        }
      ]
    },
    {
      "cell_type": "code",
      "source": [
        "# Using alternate SDP\n",
        "n = 10\n",
        "d = 3\n",
        "r = 3\n",
        "\n",
        "Rhos = GenStates(n, d, d)\n",
        "p = ProbVec(n)\n",
        "\n",
        "FidAltSDP, SigmaAltSDP = BayesSDPFid(Rhos, p, epsi = 1e-6)[0:2] # Using Alternate SDP\n",
        "\n",
        "FidAltSDP"
      ],
      "metadata": {
        "colab": {
          "base_uri": "https://localhost:8080/"
        },
        "id": "V2KgmTvvlmLf",
        "outputId": "a1d0ab52-5759-41fe-edc1-44dd9ed8da96"
      },
      "execution_count": null,
      "outputs": [
        {
          "output_type": "execute_result",
          "data": {
            "text/plain": [
              "0.926205975413983"
            ]
          },
          "metadata": {},
          "execution_count": 67
        }
      ]
    },
    {
      "cell_type": "code",
      "source": [
        "# Using Omega FP algorithm\n",
        "\n",
        "n = 20\n",
        "d = 10\n",
        "r = 10\n",
        "\n",
        "Rhos = GenStates(n, d, d)\n",
        "p = ProbVec(n)\n",
        "\n",
        "FidOmegaFP, SigmaOmegaFP = OmegaEstimator(Rhos, p, eps = 1e-6)[0:2] # Using Omega FP algorithm \n",
        "\n",
        "FidOmegaFP"
      ],
      "metadata": {
        "colab": {
          "base_uri": "https://localhost:8080/"
        },
        "id": "W-QPTO8TlnVZ",
        "outputId": "dbc1dea9-8fcf-4436-fecc-1dc9a5de46c2"
      },
      "execution_count": null,
      "outputs": [
        {
          "output_type": "execute_result",
          "data": {
            "text/plain": [
              "(0.9295334307247842-2.7980391656042437e-16j)"
            ]
          },
          "metadata": {},
          "execution_count": 79
        }
      ]
    },
    {
      "cell_type": "code",
      "source": [
        "# Using Lambda FP algorithm \n",
        "\n",
        "n = 20\n",
        "d = 5\n",
        "r = 5\n",
        "\n",
        "Rhos = GenStates(n, d, d)\n",
        "p = ProbVec(n)\n",
        "\n",
        "FidLambdaFP, SigmaLambdaFP = LambdaEstimator(Rhos, p, eps = 1e-6)[0:2] # Using Lambda FP algorithm \n",
        "\n",
        "FidLambdaFP"
      ],
      "metadata": {
        "colab": {
          "base_uri": "https://localhost:8080/"
        },
        "id": "_BGTScLDnBd0",
        "outputId": "127799cb-c494-4f2f-f554-2372a0a1ea04"
      },
      "execution_count": null,
      "outputs": [
        {
          "output_type": "execute_result",
          "data": {
            "text/plain": [
              "(0.929841095196262+1.842367045337236e-18j)"
            ]
          },
          "metadata": {},
          "execution_count": 80
        }
      ]
    },
    {
      "cell_type": "code",
      "source": [
        "# Commuting Estimator \n",
        "\n",
        "n = 20\n",
        "d = 5\n",
        "r = 5\n",
        "\n",
        "Rhos = GenStates(n, d, d)\n",
        "p = ProbVec(n)\n",
        "\n",
        "SigmaComm = CommEstimator(Rhos, p) # Using Lambda FP algorithm \n",
        "\n",
        "AverageFidelity(SigmaComm, Rhos, p)"
      ],
      "metadata": {
        "colab": {
          "base_uri": "https://localhost:8080/"
        },
        "id": "myC_f9xHG1XD",
        "outputId": "0cd34625-040d-41eb-d8d6-984674953239"
      },
      "execution_count": null,
      "outputs": [
        {
          "output_type": "execute_result",
          "data": {
            "text/plain": [
              "(0.9208440235313925-3.438407645407128e-16j)"
            ]
          },
          "metadata": {},
          "execution_count": 84
        }
      ]
    },
    {
      "cell_type": "code",
      "source": [
        "# Comparing all 4 methods over the same ensemble\n",
        "n = 5\n",
        "d = 2\n",
        "r = 2\n",
        "\n",
        "Rhos = GenStates(n, d, d)\n",
        "p = ProbVec(n)\n",
        "\n",
        "FidOriSDP, SigmaOriSDP = BayesSDPFidOri(Rhos, p, epsi = 1e-6)[0:2] # Using Original SDP\n",
        "\n",
        "FidAltSDP, SigmaAltSDP = BayesSDPFid(Rhos, p, epsi = 1e-6)[0:2] # Using Alternate SDP\n",
        "\n",
        "FidOmegaFP, SigmaOmegaFP = OmegaEstimator(Rhos, p, eps = 1e-6)[0:2] # Using Omega FP algorithm \n",
        "\n",
        "FidLambdaFP, SigmaLambdaFP = LambdaEstimator(Rhos, p, eps = 1e-6)[0:2] # Using Lambda FP algorithm \n",
        "\n",
        "print(np.allclose(FidOriSDP, FidOmegaFP), np.allclose(FidOriSDP, FidAltSDP), np.allclose(FidOriSDP, FidLambdaFP))\n",
        "\n",
        "print(np.allclose(SigmaOriSDP, SigmaOmegaFP), np.allclose(SigmaAltSDP, SigmaOmegaFP), np.allclose(SigmaLambdaFP, SigmaOmegaFP))\n",
        "\n",
        "# As the results show, all methods lead to the same solution"
      ],
      "metadata": {
        "colab": {
          "base_uri": "https://localhost:8080/"
        },
        "id": "24okGXyrkFFQ",
        "outputId": "8f55fb7b-895e-4f05-e3d4-d6ce93fb6363"
      },
      "execution_count": null,
      "outputs": [
        {
          "output_type": "stream",
          "name": "stdout",
          "text": [
            "True True True\n",
            "True True True\n"
          ]
        }
      ]
    }
  ]
}